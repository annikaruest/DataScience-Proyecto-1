{
 "cells": [
  {
   "cell_type": "markdown",
   "metadata": {},
   "source": [
    "## Pregunta 4"
   ]
  },
  {
   "cell_type": "code",
   "execution_count": 1,
   "metadata": {
    "collapsed": false
   },
   "outputs": [
    {
     "name": "stdout",
     "output_type": "stream",
     "text": [
      "C:\\Users\\Ignacio Rodriguez\\Desktop\\Universidad\\Data science\\Trabajo preguntas grupo\n",
      "64.0\n",
      "64.0\n",
      "41.1517657192\n",
      "38.668044789\n"
     ]
    }
   ],
   "source": [
    "import pandas as pd\n",
    "import numpy as np\n",
    "import seaborn as sns\n",
    "import matplotlib.pyplot as plt\n",
    "allstate = pd.read_csv(\"allstate.csv\")\n",
    "%cd C:\\Users\\Ignacio Rodriguez\\Desktop\\Universidad\\Data science\\Trabajo preguntas grupo\n",
    "\n",
    "edad = allstate[['car_age','age_oldest']]  \n",
    "pa = edad[edad.car_age == edad.car_age.max()] \n",
    "p = pa.age_oldest.mean()\n",
    "print p \n",
    "edad = allstate[['car_age','age_youngest']]  \n",
    "pa = edad[edad.car_age == edad.car_age.max()] \n",
    "p = pa.age_youngest.mean()\n",
    "print p \n",
    "##allstate.car_age.min()\n",
    "edad = allstate[['car_age','age_oldest']]  \n",
    "pa = edad[edad.car_age == edad.car_age.min()] \n",
    "p = pa.age_oldest.mean()\n",
    "print p \n",
    "   \n",
    "edad = allstate[['car_age','age_youngest']]  \n",
    "pa = edad[edad.car_age == edad.car_age.min()] \n",
    "p = pa.age_youngest.mean()\n",
    "print p"
   ]
  }
 ],
 "metadata": {
  "kernelspec": {
   "display_name": "Python 2",
   "language": "python",
   "name": "python2"
  },
  "language_info": {
   "codemirror_mode": {
    "name": "ipython",
    "version": 2
   },
   "file_extension": ".py",
   "mimetype": "text/x-python",
   "name": "python",
   "nbconvert_exporter": "python",
   "pygments_lexer": "ipython2",
   "version": "2.7.11"
  }
 },
 "nbformat": 4,
 "nbformat_minor": 0
}
