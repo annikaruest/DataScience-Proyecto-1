{
 "cells": [
  {
   "cell_type": "markdown",
   "metadata": {},
   "source": [
    "## Pregunta 1"
   ]
  },
  {
   "cell_type": "markdown",
   "metadata": {},
   "source": [
    "#### ¿Qué características tienen los grupos a los que se les cotiza los seguros más baratos?"
   ]
  },
  {
   "cell_type": "code",
   "execution_count": null,
   "metadata": {
    "collapsed": true
   },
   "outputs": [],
   "source": [
    "import pandas as pd\n",
    "import numpy as np\n",
    "import matplotlib.pyplot as plt\n",
    "import seaborn as sns\n",
    "\n",
    "allstate = pd.read_csv(\"allstate.csv\")\n",
    "allstate.head()\n",
    "\n",
    "allstate.info\n",
    "allstate.cost.describe()\n",
    "\n",
    "#se analizará respecto al primer cuartil\n",
    "x = allstate[(allstate.cost<605)]\n",
    "\n",
    "#vamos a analizar la variable group size en gráfica y datos\n",
    "sns.distplot(x.group_size)\n",
    "x.group_size.describe()\n",
    "\n",
    "#compararemos group size con el costo para ver si afecta el costo del seguro\n",
    "y = allstate[(allstate.group_size > 1)]\n",
    "y.cost.describe()\n",
    "sns.distplot(y.cost)\n",
    "\n",
    "z = allstate[(allstate.group_size > 2)]\n",
    "z.cost.describe()\n",
    "sns.distplot(z.cost)\n",
    "#group_size no afecta al costo del seguro de manera significativa\n",
    "\n",
    "#se analizará la variable car age para ver que años son los carros que más frecuentemente se aseguran\n",
    "x.car_age.describe()\n",
    "x.car_age.mode()\n",
    "sns.distplot(x.car_age)\n",
    "#Los carros que más frecuentemente se aseguran estan entre 7 y 11 años\n",
    "\n",
    "x.homeowner.describe()\n",
    "x.homeowner.mode()\n",
    "#las personas con seguro barato son las que comunmente tienen una casa\n",
    "\n",
    "#ahora veremos la varibale duration_previous para ver cuanto tiempo fueron los carros asegurados con su aseguradora anterior\n",
    "x.duration_previous.describe()\n",
    "x.duration_previous.mode()\n",
    "allstate.duration_previous.describe()\n",
    "#la informacion nos dice que en el primer cuartil los clientes estuvieron 3 años con sus aseguradoras anteriores.\n",
    "\n",
    " \n",
    "#evaluaré en que estado esta el seguro más barato y más repetido.\n",
    "x.state.mode()\n",
    "#el estado donde esta la moda en cuanto al seguro abajo de 605 (lo más barato) es en Florida\n",
    "\n",
    "\n",
    "x.car_value.mode()\n",
    "#valor de los carros más repetidos en cuanto a los más baratos bajo de 605 es clase (E)\n",
    "\n",
    "sns.distplot(x.age_oldest)\n",
    "x.age_oldest.describe()\n",
    "\n",
    "\n",
    "youngest= x[(x.age_oldest<75)]\n",
    "print youngest\n",
    "sns.distplot(youngest.age_oldest)\n",
    "youngest.age_oldest.mode()\n",
    "# en los resultados de las graficas se puede concluir que las personas de mayor edad son más baratas de asegurar."
   ]
  },
  {
   "cell_type": "markdown",
   "metadata": {},
   "source": [
    "# Respuesta: A los que se les cotiza los seguros más baratos tienden a vivir en Florida, a tener más de 75 años, a tener carros que tienen un uso entre 7 a 11 años,  a ser dueños de una casa y a los que tienen un carro clase (E) según la variable car_value. "
   ]
  }
 ],
 "metadata": {
  "kernelspec": {
   "display_name": "Python 2",
   "language": "python",
   "name": "python2"
  },
  "language_info": {
   "codemirror_mode": {
    "name": "ipython",
    "version": 2
   },
   "file_extension": ".py",
   "mimetype": "text/x-python",
   "name": "python",
   "nbconvert_exporter": "python",
   "pygments_lexer": "ipython2",
   "version": "2.7.10"
  }
 },
 "nbformat": 4,
 "nbformat_minor": 0
}
