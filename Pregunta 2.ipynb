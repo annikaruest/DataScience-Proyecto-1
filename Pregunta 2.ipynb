{
 "cells": [
  {
   "cell_type": "markdown",
   "metadata": {},
   "source": [
    "### Pregunta 2 ¿Qué tan probable es que se compre un seguro después de la k-ésima cotización?"
   ]
  },
  {
   "cell_type": "code",
   "execution_count": 1,
   "metadata": {
    "collapsed": false
   },
   "outputs": [
    {
     "name": "stdout",
     "output_type": "stream",
     "text": [
      "la probabilidad de comprar despues de la k-esima cotizacion es: 5.73%\n"
     ]
    }
   ],
   "source": [
    "import pandas as pd\n",
    "import numpy as np\n",
    "import seaborn as sns\n",
    "import matplotlib.pyplot as plt\n",
    "\n",
    "allstate = pd.read_csv('allstate.csv')\n",
    "\n",
    "kesima=3;\n",
    "after=kesima+1;\n",
    "total= sum (allstate[\"shopping_pt\"]==1)\n",
    "shopping= total-(sum(allstate[\"shopping_pt\"]==after))\n",
    "probability=((shopping/1.0)/(total/1.0))*100\n",
    "print(\"la probabilidad de comprar despues de la k-esima cotizacion es: \"+ str(probability)[0:4]+\"%\")"
   ]
  }
 ],
 "metadata": {
  "kernelspec": {
   "display_name": "Python 3",
   "language": "python",
   "name": "python3"
  },
  "language_info": {
   "codemirror_mode": {
    "name": "ipython",
    "version": 3
   },
   "file_extension": ".py",
   "mimetype": "text/x-python",
   "name": "python",
   "nbconvert_exporter": "python",
   "pygments_lexer": "ipython3",
   "version": "3.4.4"
  }
 },
 "nbformat": 4,
 "nbformat_minor": 0
}
