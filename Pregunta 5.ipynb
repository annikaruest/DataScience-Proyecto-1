{
 "cells": [
  {
   "cell_type": "markdown",
   "metadata": {},
   "source": [
    "## Pregunta 5 ¿Probabilidad de que alguien de edad k compre un seguro?"
   ]
  },
  {
   "cell_type": "code",
   "execution_count": 2,
   "metadata": {
    "collapsed": false
   },
   "outputs": [
    {
     "name": "stdout",
     "output_type": "stream",
     "text": [
      "la probabilidad es de 3.4520\n"
     ]
    }
   ],
   "source": [
    "import pandas as pd\n",
    "import numpy as np\n",
    "import seaborn as sns\n",
    "import matplotlib.pyplot as plt\n",
    "\n",
    "allstate = pd.read_csv('allstate.csv')\n",
    "\n",
    "k=20\n",
    "mayor=allstate[allstate['age_oldest']==k]\n",
    "total=sum(allstate['record_type']==1)\n",
    "x=sum(mayor['record_type']==1)\n",
    "p=((x/1.0)/(total/1.0))*100\n",
    "\n",
    "menor=allstate[allstate['age_youngest']==k]\n",
    "y=sum(menor['record_type']==1)\n",
    "p2=((y/1.0)/(total/1.0))*100\n",
    "\n",
    "ptotal=p+p2\n",
    "\n",
    "print(\"la probabilidad es de \" + str(ptotal)[0:4]+ str(k))"
   ]
  }
 ],
 "metadata": {
  "kernelspec": {
   "display_name": "Python 3",
   "language": "python",
   "name": "python3"
  },
  "language_info": {
   "codemirror_mode": {
    "name": "ipython",
    "version": 3
   },
   "file_extension": ".py",
   "mimetype": "text/x-python",
   "name": "python",
   "nbconvert_exporter": "python",
   "pygments_lexer": "ipython3",
   "version": "3.4.4"
  }
 },
 "nbformat": 4,
 "nbformat_minor": 0
}
