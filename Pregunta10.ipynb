{
 "cells": [
  {
   "cell_type": "markdown",
   "metadata": {},
   "source": [
    "# Pregunta 10\n",
    "## ¿Que edad necesita menos cotizaciones para comprar un seguro?"
   ]
  },
  {
   "cell_type": "code",
   "execution_count": 3,
   "metadata": {
    "collapsed": false
   },
   "outputs": [
    {
     "name": "stdout",
     "output_type": "stream",
     "text": [
      "Int64Index([17], dtype='int64', name=u'age_youngest')\n",
      "Int64Index([18], dtype='int64', name=u'age_oldest')\n"
     ]
    }
   ],
   "source": [
    "import numpy as np\n",
    "import pandas as pd\n",
    "from scipy import stats, integrate\n",
    "import matplotlib.pyplot as plt\n",
    "import seaborn as sns\n",
    "from __future__ import division \n",
    "\n",
    "df = pd.read_csv('allstate.csv')\n",
    "y=df[(df.record_type==1)].groupby('age_youngest').shopping_pt.sum()\n",
    "print y.index[y==y.min()]\n",
    "\n",
    "o=df[(df.record_type==1)].groupby('age_oldest').shopping_pt.sum()\n",
    "print o.index[o==o.min()]\n"
   ]
  },
  {
   "cell_type": "markdown",
   "metadata": {},
   "source": [
    "## Respuesta: _Los grupos que tienen a una persona de 17 años como el miembro de_\n",
    "## _menor edad y los grupos que el mayor tenga 18 años son los que_\n",
    "## _compran el seguro mas rapido por lo tanto necesitan menos cotizaciones._"
   ]
  }
 ],
 "metadata": {
  "kernelspec": {
   "display_name": "Python 2",
   "language": "python",
   "name": "python2"
  },
  "language_info": {
   "codemirror_mode": {
    "name": "ipython",
    "version": 2
   },
   "file_extension": ".py",
   "mimetype": "text/x-python",
   "name": "python",
   "nbconvert_exporter": "python",
   "pygments_lexer": "ipython2",
   "version": "2.7.11"
  }
 },
 "nbformat": 4,
 "nbformat_minor": 0
}
