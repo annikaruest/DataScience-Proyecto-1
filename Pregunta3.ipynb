{
 "cells": [
  {
   "cell_type": "markdown",
   "metadata": {},
   "source": [
    "# Pregunta 3\n",
    "## Basados en la edad del más joven. ¿Que grupo tiene mayor probabilidad de comprar un seguro?"
   ]
  },
  {
   "cell_type": "code",
   "execution_count": 3,
   "metadata": {
    "collapsed": false
   },
   "outputs": [
    {
     "name": "stdout",
     "output_type": "stream",
     "text": [
      "0.78446329722%\n"
     ]
    }
   ],
   "source": [
    "import numpy as np\n",
    "import pandas as pd\n",
    "from scipy import stats, integrate\n",
    "import matplotlib.pyplot as plt\n",
    "import seaborn as sns\n",
    "from __future__ import division \n",
    "\n",
    "df = pd.read_csv('allstate.csv')\n",
    "#Calculo cuantas personas con alguine de 16 años compro el seguro\n",
    "EvFavo = df.age_youngest[(df.age_youngest==(df.age_youngest.min()))&(df.record_type==1)].count()\n",
    "#Caluculo cuantas personas en total compraron el seguro\n",
    "EvPosibles= df.record_type[(df.record_type==1)].count()\n",
    "#Divido\n",
    "Probabilidad = EvFavo/EvPosibles\n",
    "#Multiplico por 100\n",
    "print str(Probabilidad*100)+'%'\n"
   ]
  },
  {
   "cell_type": "markdown",
   "metadata": {},
   "source": [
    "## Respuesta: _0.78446329722%_"
   ]
  }
 ],
 "metadata": {
  "kernelspec": {
   "display_name": "Python 2",
   "language": "python",
   "name": "python2"
  },
  "language_info": {
   "codemirror_mode": {
    "name": "ipython",
    "version": 2
   },
   "file_extension": ".py",
   "mimetype": "text/x-python",
   "name": "python",
   "nbconvert_exporter": "python",
   "pygments_lexer": "ipython2",
   "version": "2.7.11"
  }
 },
 "nbformat": 4,
 "nbformat_minor": 0
}
