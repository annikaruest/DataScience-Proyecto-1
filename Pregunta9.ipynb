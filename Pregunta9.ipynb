{
 "cells": [
  {
   "cell_type": "markdown",
   "metadata": {},
   "source": [
    "# Pregunta 9\n",
    "## ¿Del total de carros que porcentaje tiene menos de k años?"
   ]
  },
  {
   "cell_type": "code",
   "execution_count": 2,
   "metadata": {
    "collapsed": false
   },
   "outputs": [
    {
     "data": {
      "text/plain": [
       "'0.918471482027%'"
      ]
     },
     "execution_count": 2,
     "metadata": {},
     "output_type": "execute_result"
    }
   ],
   "source": [
    "import numpy as np\n",
    "import pandas as pd\n",
    "from scipy import stats, integrate\n",
    "import matplotlib.pyplot as plt\n",
    "import seaborn as sns\n",
    "from __future__ import division \n",
    "df = pd.read_csv('allstate.csv')\n",
    "#Declaro funcion recibe de parametro los años que queremos que sea menor\n",
    "def CDF( k ):\n",
    "    filtrok = df.car_age<=k\n",
    "    MenorQ=df.car_age[(filtrok)&(df.record_type==1)].count()\n",
    "    TotalCarr=df.car_age[df.record_type==1].count()\n",
    "    Probabilidad = MenorQ/TotalCarr\n",
    "    return str(Probabilidad*100)+'%'\n",
    "CDF(0)"
   ]
  },
  {
   "cell_type": "markdown",
   "metadata": {},
   "source": [
    "## Respuesta: \n",
    "## Para k=0 hay 0.918% carros\n",
    "## Para k=1 hay 11.6143862941% carros\n",
    "## Para k=5 hay 36.1842715624% carros\n",
    "## Para k=10 hay 69.0111226793% carros\n",
    "## Para k=20 hay 97.2332463998% carros\n",
    "## Para k=30 hay 99.6453937264% carros\n",
    "## Para k=85 hay 100.00% carros"
   ]
  }
 ],
 "metadata": {
  "kernelspec": {
   "display_name": "Python 2",
   "language": "python",
   "name": "python2"
  },
  "language_info": {
   "codemirror_mode": {
    "name": "ipython",
    "version": 2
   },
   "file_extension": ".py",
   "mimetype": "text/x-python",
   "name": "python",
   "nbconvert_exporter": "python",
   "pygments_lexer": "ipython2",
   "version": "2.7.11"
  }
 },
 "nbformat": 4,
 "nbformat_minor": 0
}
